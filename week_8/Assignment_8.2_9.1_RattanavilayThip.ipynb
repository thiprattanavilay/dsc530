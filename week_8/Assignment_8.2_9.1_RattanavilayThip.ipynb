{
 "cells": [
  {
   "cell_type": "markdown",
   "metadata": {},
   "source": [
    "Name : Rattanavilay, Thip<br>\n",
    "Class : DSC530<br>\n",
    "Week 8: Hypothesis Testing & Linear Least Squares<br>\n",
    "Assignment : 8.2, 9-1<br>\n",
    "\n",
    "**As sample size increases, the power of a hypothesis test increases, which means it is more likely to be positive if the effect is real. Conversely, as sample size decreases, the test is less likely to be positive even if the effect is real.**\n",
    "\n",
    "**To investigate this behavior, run the tests in this chapter with different subsets of the NSFG data. \n",
    "You can use thinkstats2.SampleRows to select a random subset of the rows in a DataFrame.**\n",
    "\n",
    "**What happens to the p-values of these tests as sample size decreases? \n",
    "What is the smallest sample size that yields a positive test?**\n",
    "\n"
   ]
  },
  {
   "cell_type": "code",
   "execution_count": 1,
   "metadata": {},
   "outputs": [],
   "source": [
    "import first\n",
    "import hypothesis\n",
    "import scatter\n",
    "import thinkstats2\n",
    "\n",
    "import numpy as np"
   ]
  },
  {
   "cell_type": "code",
   "execution_count": 2,
   "metadata": {},
   "outputs": [],
   "source": [
    "def RunTests(live, iters=1000):\n",
    "    \"\"\"Runs the tests from Chapter 9 with a subset of the data.\n",
    "\n",
    "    live: DataFrame\n",
    "    iters: how many iterations to run\n",
    "    \"\"\"\n",
    "    n = len(live)\n",
    "    firsts = live[live.birthord == 1]\n",
    "    others = live[live.birthord != 1]\n",
    "\n",
    "    # compare pregnancy lengths\n",
    "    data = firsts.prglngth.values, others.prglngth.values\n",
    "    ht = hypothesis.DiffMeansPermute(data) # difference in means by permutation\n",
    "    p1 = ht.PValue(iters=iters)            # Get the p-value\n",
    "\n",
    "    # test correlation\n",
    "    live2 = live.dropna(subset=['agepreg', 'totalwgt_lb'])\n",
    "    data = live2.agepreg.values, live2.totalwgt_lb.values\n",
    "    ht = hypothesis.CorrelationPermute(data)  # correlations by permutation\n",
    "    p3 = ht.PValue(iters=iters)               # Get the p-value\n",
    "    \n",
    "\n",
    "    print('%d\\t%0.2f\\t%0.2f' % (n, p1, p3))"
   ]
  },
  {
   "cell_type": "code",
   "execution_count": 5,
   "metadata": {},
   "outputs": [
    {
     "name": "stdout",
     "output_type": "stream",
     "text": [
      "n\tP_Len\tCorr\n",
      "9148\t0.16\t0.00\n",
      "4574\t0.63\t0.00\n",
      "2287\t0.55\t0.00\n",
      "1143\t0.25\t0.00\n",
      "571\t0.29\t0.10\n",
      "285\t0.55\t0.01\n",
      "142\t0.36\t0.63\n"
     ]
    }
   ],
   "source": [
    "thinkstats2.RandomSeed(18)\n",
    "\n",
    "live, firsts, others = first.MakeFrames()\n",
    "\n",
    "print('n\\tP_Len\\tCorr')\n",
    "n = len(live)\n",
    "for _ in range(7):      # iterate 7 times\n",
    "    sample = thinkstats2.SampleRows(live, n)\n",
    "    RunTests(sample)\n",
    "    n //= 2"
   ]
  },
  {
   "cell_type": "markdown",
   "metadata": {},
   "source": [
    "Conclusion:<br>\n",
    "\n",
    "As you can see here I have ran 2 tests and P-values are shown above for corresponding sample size,n :<br>\n",
    "P_Len - Difference in mean pregnancy length<br>\n",
    "Corr - Correlation between mother's age and birth weight<br>\n",
    " \n",
    "Shown above here are the outccome of 2 tests we can clearly see that, power of hypothesis increases with size of sample. Test is positive with large sample size.<br>\n",
    " \n",
    "In this test, smallest size is '285' which yields positive test"
   ]
  },
  {
   "cell_type": "code",
   "execution_count": null,
   "metadata": {},
   "outputs": [],
   "source": []
  }
 ],
 "metadata": {
  "kernelspec": {
   "display_name": "Python 3",
   "language": "python",
   "name": "python3"
  },
  "language_info": {
   "codemirror_mode": {
    "name": "ipython",
    "version": 3
   },
   "file_extension": ".py",
   "mimetype": "text/x-python",
   "name": "python",
   "nbconvert_exporter": "python",
   "pygments_lexer": "ipython3",
   "version": "3.8.5"
  }
 },
 "nbformat": 4,
 "nbformat_minor": 2
}
