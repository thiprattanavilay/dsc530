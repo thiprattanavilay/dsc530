{
 "cells": [
  {
   "cell_type": "markdown",
   "metadata": {},
   "source": [
    " # Week 5: Exercise 5.2\n",
    " File: RattanavilayThip_Exercise_5.2.py (.ipynb)<br>\n",
    " Name: Thip Rattanavilay<br>\n",
    " Date: 1/16/2021<br>\n",
    " Course: DSC 530 Data Exploration and Analysis<br>\n",
    " Assignment: Chapter 5: 5.1, 5.2 & Chapter 6: 6.1"
   ]
  },
  {
   "cell_type": "code",
   "execution_count": 1,
   "metadata": {},
   "outputs": [],
   "source": [
    "import numpy as np\n",
    "import scipy.stats\n",
    "import density\n",
    "import hinc\n",
    "import thinkplot\n",
    "import thinkstats2\n"
   ]
  },
  {
   "cell_type": "markdown",
   "metadata": {},
   "source": [
    " ## Chapter 5"
   ]
  },
  {
   "cell_type": "markdown",
   "metadata": {},
   "source": [
    " ### Exercise 5.1\n",
    " In the BRFSS (see Section 5.4), the distribution of heights is roughly normal with parameters µ = 178 cm and σ = 7.7 cm for men, and µ = 163 cm and σ = 7.3 cm for women.\n",
    "\n",
    " In order to join Blue Man Group, you have to be male between 5’10” and 6’1” (see http://bluemancasting.com). What percentage of the U.S. male population is in this range? Hint: use `scipy.stats.norm.cdf`."
   ]
  },
  {
   "cell_type": "code",
   "execution_count": 2,
   "metadata": {},
   "outputs": [],
   "source": [
    "\"\"\"\n",
    "men: mean = 178, std_dev = 7.7\n",
    "woman: mean = 163, amd std_Dev = 7.3\n",
    "\"\"\"\n",
    "men_mean = 178\n",
    "men_std_dev = 7.7\n",
    "\n",
    "# determine the normal dist from scipy.stats\n",
    "men_dist = scipy.stats.norm(loc=men_mean, scale=men_std_dev)\n"
   ]
  },
  {
   "cell_type": "code",
   "execution_count": 3,
   "metadata": {},
   "outputs": [
    {
     "name": "stdout",
     "output_type": "stream",
     "text": [
      "34.27 percent of men fall intro the 5'10 - 6'1 range\n"
     ]
    }
   ],
   "source": [
    "# calculate the % of men in the 5'10 to 6'1\" range\n",
    "low_height = 177.8 # cm \n",
    "high_height = 185.42 # cm\n",
    "\n",
    "low_range = men_dist.cdf(low_height)\n",
    "high_range = men_dist.cdf(high_height)\n",
    "\n",
    "print(\"{:.2f} percent of men fall intro the 5'10 - 6'1 range\".format((high_range - low_range)*100))\n"
   ]
  },
  {
   "cell_type": "markdown",
   "metadata": {},
   "source": [
    " ### Exercise 5.2\n",
    " To get a feel for the Pareto distribution, let’s see how different the world would be if the distribution of human height were Pareto. With the parameters xm = 1 m and α = 1.7, we get a distribution with a reasonable minimum, 1 m, and median, 1.5 m.\n",
    "\n",
    " Plot this distribution. What is the mean human height in Pareto world? What fraction of the population is shorter than the mean? If there are 7 billion people in Pareto world, how many do we expect to be taller than 1 km? How tall do we expect the tallest person to be?\n",
    "\n",
    " `scipy.stats.pareto` represents a pareto distribution.  In Pareto world, the distribution of human heights has parameters alpha=1.7 and xmin=1 meter.  So the shortest person is 100 cm and the median is 150."
   ]
  },
  {
   "cell_type": "code",
   "execution_count": 4,
   "metadata": {},
   "outputs": [],
   "source": [
    "# determine the pateto dist from scipy.stats with the given parameters\n",
    "xm = 1\n",
    "alpha = 1.7\n",
    "height_dist = scipy.stats.pareto(b=alpha, scale=xm) \n"
   ]
  },
  {
   "cell_type": "code",
   "execution_count": 5,
   "metadata": {},
   "outputs": [
    {
     "name": "stdout",
     "output_type": "stream",
     "text": [
      "The mean height is: 2.43 m\n"
     ]
    }
   ],
   "source": [
    "# find the mean height from the pareto dist\n",
    "print(\"The mean height is: {:.2f} m\".format(height_dist.mean()))\n"
   ]
  },
  {
   "cell_type": "code",
   "execution_count": 6,
   "metadata": {},
   "outputs": [
    {
     "name": "stdout",
     "output_type": "stream",
     "text": [
      "The fraction of people shorter than the mean is: 0.78\n"
     ]
    }
   ],
   "source": [
    "# Fraction of the population shorter than the mean.\n",
    "\n",
    "# get the cdf of the mean\n",
    "shorter_frac = height_dist.cdf(height_dist.mean())\n",
    "print(\"The fraction of people shorter than the mean is: {:.2f}\".format(shorter_frac))\n"
   ]
  },
  {
   "cell_type": "code",
   "execution_count": 7,
   "metadata": {},
   "outputs": [
    {
     "name": "stdout",
     "output_type": "stream",
     "text": [
      "You would expect 55603 people to be over 1km.\n"
     ]
    }
   ],
   "source": [
    "# How many people do you expect to be taller than 1km?\n",
    "\"\"\"\n",
    "x = 1000 (1km)\n",
    "amt_ppl = 7e9 (7 billion)\n",
    "use the sf (survival function or 1-cdf) to predict amout of ppl expect to be taller than\n",
    "1km\n",
    "\"\"\"\n",
    "x = 1000\n",
    "amt_ppl = 7e9\n",
    "expected = height_dist.sf(x) * amt_ppl\n",
    "\n",
    "print(\"You would expect {:.0f} people to be over 1km.\".format(expected))\n"
   ]
  },
  {
   "cell_type": "code",
   "execution_count": 8,
   "metadata": {},
   "outputs": [
    {
     "name": "stdout",
     "output_type": "stream",
     "text": [
      "We would expect the tallest person to be: ~617 km.\n"
     ]
    }
   ],
   "source": [
    "# How tall do we expect the tallest person to be?\n",
    "\n",
    "# search for an x value that results in the sf dunction to be close to 1.\n",
    "# some trial and error\n",
    "result = round(height_dist.sf(617000) * amt_ppl, 1)\n",
    "\n",
    "print(\"We would expect the tallest person to be: ~617 km.\")\n"
   ]
  },
  {
   "cell_type": "markdown",
   "metadata": {},
   "source": [
    " ## Chapter 6"
   ]
  },
  {
   "cell_type": "markdown",
   "metadata": {},
   "source": [
    " ### Exercise 6.1\n",
    " The distribution of income is famously skewed to the right. In this exercise, we'll measure how strong that skew is.\n",
    " Compute the median, mean, skewness and Pearson’s skewness of the resulting sample.\n",
    " What fraction of households reports a taxable income below the mean?\n",
    " How do the results depend on the assumed upper bound?"
   ]
  },
  {
   "cell_type": "code",
   "execution_count": 9,
   "metadata": {},
   "outputs": [
    {
     "data": {
      "text/html": [
       "<div>\n",
       "<style scoped>\n",
       "    .dataframe tbody tr th:only-of-type {\n",
       "        vertical-align: middle;\n",
       "    }\n",
       "\n",
       "    .dataframe tbody tr th {\n",
       "        vertical-align: top;\n",
       "    }\n",
       "\n",
       "    .dataframe thead th {\n",
       "        text-align: right;\n",
       "    }\n",
       "</style>\n",
       "<table border=\"1\" class=\"dataframe\">\n",
       "  <thead>\n",
       "    <tr style=\"text-align: right;\">\n",
       "      <th></th>\n",
       "      <th>income</th>\n",
       "      <th>freq</th>\n",
       "      <th>cumsum</th>\n",
       "      <th>ps</th>\n",
       "    </tr>\n",
       "  </thead>\n",
       "  <tbody>\n",
       "    <tr>\n",
       "      <th>0</th>\n",
       "      <td>4999.0</td>\n",
       "      <td>4204</td>\n",
       "      <td>4204</td>\n",
       "      <td>0.034330</td>\n",
       "    </tr>\n",
       "    <tr>\n",
       "      <th>1</th>\n",
       "      <td>9999.0</td>\n",
       "      <td>4729</td>\n",
       "      <td>8933</td>\n",
       "      <td>0.072947</td>\n",
       "    </tr>\n",
       "    <tr>\n",
       "      <th>2</th>\n",
       "      <td>14999.0</td>\n",
       "      <td>6982</td>\n",
       "      <td>15915</td>\n",
       "      <td>0.129963</td>\n",
       "    </tr>\n",
       "    <tr>\n",
       "      <th>3</th>\n",
       "      <td>19999.0</td>\n",
       "      <td>7157</td>\n",
       "      <td>23072</td>\n",
       "      <td>0.188407</td>\n",
       "    </tr>\n",
       "    <tr>\n",
       "      <th>4</th>\n",
       "      <td>24999.0</td>\n",
       "      <td>7131</td>\n",
       "      <td>30203</td>\n",
       "      <td>0.246640</td>\n",
       "    </tr>\n",
       "  </tbody>\n",
       "</table>\n",
       "</div>"
      ],
      "text/plain": [
       "    income  freq  cumsum        ps\n",
       "0   4999.0  4204    4204  0.034330\n",
       "1   9999.0  4729    8933  0.072947\n",
       "2  14999.0  6982   15915  0.129963\n",
       "3  19999.0  7157   23072  0.188407\n",
       "4  24999.0  7131   30203  0.246640"
      ]
     },
     "execution_count": 9,
     "metadata": {},
     "output_type": "execute_result"
    }
   ],
   "source": [
    "# read in the 'hinc06.csv' file, default file in hinc)\n",
    "df = hinc.ReadData()\n",
    "df.head()\n"
   ]
  },
  {
   "cell_type": "code",
   "execution_count": 10,
   "metadata": {},
   "outputs": [],
   "source": [
    "\"\"\" Modified from hinc2 due to errors when setting values\n",
    "\"\"\"\n",
    "def InterpolateSample(df, log_upper=6.0):\n",
    "    \"\"\"Makes a sample of log10 household income.\n",
    "\n",
    "    Assumes that log10 income is uniform in each range.\n",
    "\n",
    "    df: DataFrame with columns income and freq\n",
    "    log_upper: log10 of the assumed upper bound for the highest range\n",
    "\n",
    "    returns: NumPy array of log10 household income\n",
    "    \"\"\"\n",
    "    # compute the log10 of the upper bound for each range\n",
    "    df['log_upper'] = np.log10(df.income)\n",
    "\n",
    "    # get the lower bounds by shifting the upper bound and filling in\n",
    "    # the first element\n",
    "    df['log_lower'] = df.log_upper.shift(1)\n",
    "    #df.log_lower[0] = 3.0  # MODIFIED #\n",
    "    df.at[0, \"log_lower\"] = 3.0\n",
    "\n",
    "    # plug in a value for the unknown upper bound of the highest range\n",
    "    #df.log_upper[41] = log_upper # MODIFIED #\n",
    "    df.at[41, \"log_upper\"] = log_upper\n",
    "\n",
    "    # use the freq column to generate the right number of values in\n",
    "    # each range\n",
    "    arrays = []\n",
    "    for _, row in df.iterrows():\n",
    "        vals = np.linspace(row.log_lower, row.log_upper, row.freq)\n",
    "        arrays.append(vals)\n",
    "\n",
    "    # collect the arrays into a single sample\n",
    "    log_sample = np.concatenate(arrays)\n",
    "    return log_sample\n"
   ]
  },
  {
   "cell_type": "code",
   "execution_count": 12,
   "metadata": {},
   "outputs": [
    {
     "name": "stdout",
     "output_type": "stream",
     "text": [
      "mean 74278.7075311872\n",
      "std 93946.92996347835\n",
      "median 51226.45447894046\n",
      "skewness 4.949920244429583\n",
      "pearson skewness 0.7361258019141782\n"
     ]
    },
    {
     "data": {
      "image/png": "[encoded data removed]",
      "text/plain": [
       "<Figure size 432x288 with 1 Axes>"
      ]
     },
     "metadata": {},
     "output_type": "display_data"
    }
   ],
   "source": [
    "log_cdf = thinkstats2.Cdf(log_sample)\n",
    "thinkplot.Cdf(log_cdf)\n",
    "\n",
    "# get a sample to calc mean, median\n",
    "sample = np.power(10, log_sample)\n",
    "\n",
    "mean, median = density.Summarize(sample)\n",
    "\n",
    "#print(\"The mean is: {}\".format(mean))\n",
    "#print(\"The median is: {}\".format(median))\n"
   ]
  },
  {
   "cell_type": "code",
   "execution_count": 13,
   "metadata": {},
   "outputs": [
    {
     "name": "stdout",
     "output_type": "stream",
     "text": [
      "The fraction of households below the mean: 0.66\n"
     ]
    }
   ],
   "source": [
    "# fraction of households below the mean\n",
    "cdf = thinkstats2.Cdf(sample)\n",
    "print('The fraction of households below the mean: {:.2f}'.format(cdf[mean]))\n"
   ]
  },
  {
   "cell_type": "markdown",
   "metadata": {},
   "source": [
    "How do the results change with the upper bound? \n",
    "\n",
    "The upper bound effects the skewness. As the upper bound increases the moment-based skewness would also increase. The mean is only somewhat affected by an increase in the upper bound. Since the standard deviation is in the denominator it will have a strong effect on the results."
   ]
  },
  {
   "cell_type": "code",
   "execution_count": null,
   "metadata": {},
   "outputs": [],
   "source": []
  }
 ],
 "metadata": {
  "file_extension": ".py",
  "kernelspec": {
   "display_name": "Python 3",
   "language": "python",
   "name": "python3"
  },
  "language_info": {
   "codemirror_mode": {
    "name": "ipython",
    "version": 3
   },
   "file_extension": ".py",
   "mimetype": "text/x-python",
   "name": "python",
   "nbconvert_exporter": "python",
   "pygments_lexer": "ipython3",
   "version": "3.8.5"
  },
  "mimetype": "text/x-python",
  "name": "python",
  "npconvert_exporter": "python",
  "pygments_lexer": "ipython3",
  "version": 3
 },
 "nbformat": 4,
 "nbformat_minor": 2
}
